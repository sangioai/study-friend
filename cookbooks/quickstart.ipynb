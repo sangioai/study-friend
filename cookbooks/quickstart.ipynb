{
  "cells": [
    {
      "cell_type": "markdown",
      "metadata": {
        "id": "S9B85SZ_gA19"
      },
      "source": [
        "# 📚StudyFriend QuickStart Guide\n",
        "<a target=\"_blank\" href=\"https://colab.research.google.com/github/sangioai/study-friend/blob/5620be72548ab5dce4995a89138f16556a173d69/cookbooks/quickstart.ipynb\">\n",
        "  <img src=\"https://colab.research.google.com/assets/colab-badge.svg\" alt=\"Open In Colab\"/>\n",
        "</a>\n",
        "</br>\n",
        "\n",
        "In this guide will see how to setup and use 📚StudyFriend on Colab."
      ]
    },
    {
      "cell_type": "markdown",
      "metadata": {
        "id": "1YVm-VVJgIUK"
      },
      "source": [
        "## Clone 📚StudyFriend\n",
        "Let's clone the repository."
      ]
    },
    {
      "cell_type": "code",
      "execution_count": null,
      "metadata": {
        "id": "8syjuAOF-HxA"
      },
      "outputs": [],
      "source": [
        "!git clone https://github.com/sangioai/study-friend"
      ]
    },
    {
      "cell_type": "markdown",
      "metadata": {
        "id": "VUFqMSxAgK2E"
      },
      "source": [
        "## Install 📚StudyFriend dependecies\n",
        "Let's add poppler libraries to the systema path."
      ]
    },
    {
      "cell_type": "code",
      "execution_count": null,
      "metadata": {
        "id": "l6J5gTZjTKyY"
      },
      "outputs": [],
      "source": [
        "!apt-get install poppler-utils"
      ]
    },
    {
      "cell_type": "markdown",
      "metadata": {
        "id": "HbFoe9DJhPgp"
      },
      "source": [
        "## Install 📚StudyFriend"
      ]
    },
    {
      "cell_type": "code",
      "execution_count": null,
      "metadata": {
        "id": "hZp7rmN5SCMs"
      },
      "outputs": [],
      "source": [
        "!pip install ./study-friend"
      ]
    },
    {
      "cell_type": "markdown",
      "metadata": {
        "id": "DAMl5247LTb-"
      },
      "source": [
        "## Generate Q&A with 📚StudyFriend\n",
        "\n",
        "You'll see different steps:\n",
        "- pdf conversion\n",
        "- model downloading (if not previously cached)\n",
        "- model inference for Q&A generation, saving on temporary file\n",
        "- final output generation via markdown beautifier"
      ]
    },
    {
      "cell_type": "code",
      "execution_count": null,
      "metadata": {
        "id": "eY0KURnISay1"
      },
      "outputs": [],
      "source": [
        "!python -m study_friend.query -d ./study-friend/samples --verbose -o outputQA.md"
      ]
    },
    {
      "cell_type": "markdown",
      "metadata": {
        "id": "GRchss82kPG0"
      },
      "source": [
        "## Display Q&A file with 📚Study Friend\n",
        "\n",
        "You can use `--here` to control wheter to show the Q&A file on current cell or on a web browser using [Flask](https://github.com/pallets/flask)."
      ]
    },
    {
      "cell_type": "code",
      "execution_count": null,
      "metadata": {
        "id": "UV6JgkYkkZOe"
      },
      "outputs": [],
      "source": [
        "from IPython.core.display import display, HTML\n",
        "html = !python -m study_friend.display -f ./study-friend/samples/output.md --here\n",
        "display(HTML(\"\".join(html)))"
      ]
    },
    {
      "cell_type": "markdown",
      "metadata": {
        "id": "gar82dKkMKg7"
      },
      "source": [
        "## Explore 📚StudyFriend\n",
        "Try it yourself!\n",
        "\n",
        "- Change prompts via `--title_prompt`, `--question_prompt`, `--answer_prompt`.</br>\n",
        "- Change image size via `--image_size`.</br>\n",
        "- Change group size via `--group_size`.</br>\n",
        "\n",
        "And more! See the options below.\n",
        "\n",
        "**Note**: you can see default option values in the first part of a `--verbose` output.\n"
      ]
    },
    {
      "cell_type": "code",
      "execution_count": null,
      "metadata": {
        "id": "zwln4k2jMfuz"
      },
      "outputs": [],
      "source": [
        "!python -m study_friend.query -h"
      ]
    }
  ],
  "metadata": {
    "accelerator": "GPU",
    "colab": {
      "gpuType": "T4",
      "provenance": []
    },
    "kernelspec": {
      "display_name": "Python 3",
      "name": "python3"
    },
    "language_info": {
      "name": "python"
    }
  },
  "nbformat": 4,
  "nbformat_minor": 0
}
