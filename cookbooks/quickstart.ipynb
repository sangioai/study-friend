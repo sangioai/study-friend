{
  "nbformat": 4,
  "nbformat_minor": 0,
  "metadata": {
    "colab": {
      "provenance": [],
      "toc_visible": true
    },
    "kernelspec": {
      "name": "python3",
      "display_name": "Python 3"
    },
    "language_info": {
      "name": "python"
    }
  },
  "cells": [
    {
      "cell_type": "markdown",
      "source": [
        "# 📚StudyFriend QuickStart Guide\n",
        "In this guide will see how to setup and use 📚StudyFriend on Colab."
      ],
      "metadata": {
        "id": "S9B85SZ_gA19"
      }
    },
    {
      "cell_type": "markdown",
      "source": [
        "## Clone 📚StudyFriend\n",
        "Let's clone the repository."
      ],
      "metadata": {
        "id": "1YVm-VVJgIUK"
      }
    },
    {
      "cell_type": "code",
      "source": [
        "!git clone https://github.com/sangioai/study-friend"
      ],
      "metadata": {
        "id": "8syjuAOF-HxA"
      },
      "execution_count": null,
      "outputs": []
    },
    {
      "cell_type": "markdown",
      "source": [
        "## Install 📚StudyFriend dependecies\n",
        "Let's add poppler libraries to the systema path."
      ],
      "metadata": {
        "id": "VUFqMSxAgK2E"
      }
    },
    {
      "cell_type": "code",
      "source": [
        "!apt-get install poppler-utils"
      ],
      "metadata": {
        "id": "l6J5gTZjTKyY"
      },
      "execution_count": null,
      "outputs": []
    },
    {
      "cell_type": "markdown",
      "source": [
        "## Install 📚StudyFriend"
      ],
      "metadata": {
        "id": "HbFoe9DJhPgp"
      }
    },
    {
      "cell_type": "code",
      "source": [
        "!pip install ./study-friend"
      ],
      "metadata": {
        "id": "hZp7rmN5SCMs"
      },
      "execution_count": null,
      "outputs": []
    },
    {
      "cell_type": "markdown",
      "source": [
        "## Generate Q&A with 📚StudyFriend\n",
        "\n",
        "You'll see different steps:\n",
        "- pdf conversion\n",
        "- model downloading (if not previously cached)\n",
        "- model inference for Q&A generation, saving on temporary file\n",
        "- final output generation via markdown beautifier"
      ],
      "metadata": {
        "id": "DAMl5247LTb-"
      }
    },
    {
      "cell_type": "code",
      "source": [
        "!python -m study_friend.query -d ./study-friend/samples --verbose -o outputQA.md"
      ],
      "metadata": {
        "id": "eY0KURnISay1"
      },
      "execution_count": null,
      "outputs": []
    },
    {
      "cell_type": "markdown",
      "source": [
        "## Explore 📚StudyFriend\n",
        "Try it yourself!\n",
        "\n",
        "- Change prompts via `--title_prompt`, `--question_prompt`, `--answer_prompt`.</br>\n",
        "- Change image size via `--image_size`.</br>\n",
        "- Change group size via `--group_size`.</br>\n",
        "\n",
        "And more! See the options below.\n",
        "\n",
        "**Note**: you can see default option values in the first part of a `--verbose` output.\n"
      ],
      "metadata": {
        "id": "gar82dKkMKg7"
      }
    },
    {
      "cell_type": "code",
      "source": [
        "!python -m study_friend.query -h"
      ],
      "metadata": {
        "id": "zwln4k2jMfuz"
      },
      "execution_count": null,
      "outputs": []
    }
  ]
}